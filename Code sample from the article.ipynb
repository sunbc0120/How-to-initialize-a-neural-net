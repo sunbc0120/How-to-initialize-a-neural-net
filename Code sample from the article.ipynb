{
 "cells": [
  {
   "cell_type": "markdown",
   "metadata": {},
   "source": [
    "# Code sample from the article\n",
    "\n",
    "This notebook contains the code used by the part of the article \"How to initialize a neural net?\""
   ]
  },
  {
   "cell_type": "code",
   "execution_count": 1,
   "metadata": {
    "ExecuteTime": {
     "end_time": "2019-06-03T14:15:34.400048Z",
     "start_time": "2019-06-03T14:15:34.176770Z"
    }
   },
   "outputs": [],
   "source": [
    "import torch\n",
    "import torch.nn.functional as F\n",
    "import math"
   ]
  },
  {
   "cell_type": "markdown",
   "metadata": {},
   "source": [
    "Why it's important to initialize neural net"
   ]
  },
  {
   "cell_type": "code",
   "execution_count": 2,
   "metadata": {
    "ExecuteTime": {
     "end_time": "2019-06-03T14:15:34.459122Z",
     "start_time": "2019-06-03T14:15:34.401328Z"
    }
   },
   "outputs": [
    {
     "name": "stdout",
     "output_type": "stream",
     "text": [
      "Layer 0: 8.602901458740234,12.32577133178711 \n",
      "Layer 10: 10889875947520.0,16345840222208.0 \n",
      "Layer 20: 1.4060994929618463e+25,2.119802061207111e+25 \n",
      "Layer 30: inf,2.1571706605529397e+37 \n",
      "Layer 40: nan,nan \n"
     ]
    },
    {
     "data": {
      "text/plain": [
       "(tensor(nan, grad_fn=<MeanBackward0>), tensor(nan, grad_fn=<StdBackward0>))"
      ]
     },
     "execution_count": 2,
     "metadata": {},
     "output_type": "execute_result"
    }
   ],
   "source": [
    "# x is an input vector (random with mean of 0 and standard deviation of 1)\n",
    "x = torch.randn(512)\n",
    "\n",
    "# linear is a linear layer with output of size 512 (matrix 512x512)\n",
    "linear = torch.nn.Linear(512, 512)\n",
    "\n",
    "# we initialize the weight of the linear layer with random number (mean of 0 and standard deviation of 1)\n",
    "torch.nn.init.normal_(linear.weight, mean=0, std=1)\n",
    "\n",
    "# We simulate the foward pass of a neural net with 50 layers\n",
    "for i in range(50): \n",
    "    x = F.relu(linear(x))\n",
    "    \n",
    "    #We check the stats at some layers\n",
    "    if i % 10 == 0:\n",
    "        print(f'Layer {i}: {x.mean()},{x.std()} ')\n",
    "    \n",
    "# We get exploding gradient (not a number results)\n",
    "x.mean(),x.std()    "
   ]
  },
  {
   "cell_type": "code",
   "execution_count": 3,
   "metadata": {
    "ExecuteTime": {
     "end_time": "2019-06-03T14:15:34.518926Z",
     "start_time": "2019-06-03T14:15:34.460394Z"
    }
   },
   "outputs": [
    {
     "name": "stdout",
     "output_type": "stream",
     "text": [
      "Layer 0: 0.5577335953712463,0.7815624475479126 \n",
      "Layer 10: 0.5380088686943054,0.7883701920509338 \n",
      "Layer 20: 0.3430079519748688,0.5078677535057068 \n",
      "Layer 30: 0.205487459897995,0.30858924984931946 \n",
      "Layer 40: 0.12987178564071655,0.19700129330158234 \n"
     ]
    },
    {
     "data": {
      "text/plain": [
       "(tensor(0.0898, grad_fn=<MeanBackward0>),\n",
       " tensor(0.1362, grad_fn=<StdBackward0>))"
      ]
     },
     "execution_count": 3,
     "metadata": {},
     "output_type": "execute_result"
    }
   ],
   "source": [
    "# x is an input vector (random with mean of 0 and standard deviation of 1)\n",
    "x = torch.randn(512)\n",
    "\n",
    "# linear is a linear layer with output of size 512 (matrix 512x512)\n",
    "linear = torch.nn.Linear(512, 512)\n",
    "# we initialize the weight of the linear layer with random number\n",
    "torch.nn.init.normal_(linear.weight, mean=0, std=1)\n",
    "\n",
    "with torch.no_grad():\n",
    "# We multiply the random number by math.sqrt(2/512)\n",
    "    linear.weight = torch.nn.Parameter(linear.weight * math.sqrt(2/512))\n",
    "    \n",
    "optimizer = torch.optim.SGD(linear.parameters(), lr=0.01, momentum=0.9)\n",
    "\n",
    "\n",
    "# We simulate the foward pass of a neural net with 50 layers\n",
    "for i in range(50): \n",
    "    x = F.relu(linear(x))\n",
    "    \n",
    "    #We check the stats at some layers\n",
    "    if i % 10 == 0:\n",
    "        print(f'Layer {i}: {x.mean()},{x.std()} ')\n",
    "    \n",
    "# We get exploding gradient (not a number results)\n",
    "x.mean(),x.std()    "
   ]
  },
  {
   "cell_type": "code",
   "execution_count": 4,
   "metadata": {
    "ExecuteTime": {
     "end_time": "2019-06-03T14:15:34.538535Z",
     "start_time": "2019-06-03T14:15:34.520520Z"
    }
   },
   "outputs": [
    {
     "name": "stdout",
     "output_type": "stream",
     "text": [
      "Variance of y vector: 496.4143371582031\n",
      "Standard deviation of y vector: 22.280357360839844.\n",
      "Should be close to square root of vector size: 22.627416997969522\n"
     ]
    }
   ],
   "source": [
    "# Torch.randn generates numbers from a standard distribution (mean of 0 and std of 1)\n",
    "x = torch.randn(512)\n",
    "W = torch.randn(512,512)\n",
    "\n",
    "# Each element of the y vector will be calculated by the sum of 512 product \n",
    "# (each product is between a weight of W and an input of x, both independant and from normal distribution)\n",
    "y = x @ W\n",
    "\n",
    "# What is the variance of a sum of 512 elements (each from a stantard distrib with a variance of 1)?\n",
    "# Answer: it should be around 512\n",
    "print(f'Variance of y vector: {y.var()}')\n",
    "\n",
    "# We know that the standard deviation is the square root of the variance. \n",
    "# So standard deviation of y should be close to the square root of 512\n",
    "print(f'Standard deviation of y vector: {y.std()}.')\n",
    "print(f'Should be close to square root of vector size: {math.sqrt(512)}')"
   ]
  }
 ],
 "metadata": {
  "kernelspec": {
   "display_name": "Python 3",
   "language": "python",
   "name": "python3"
  },
  "language_info": {
   "codemirror_mode": {
    "name": "ipython",
    "version": 3
   },
   "file_extension": ".py",
   "mimetype": "text/x-python",
   "name": "python",
   "nbconvert_exporter": "python",
   "pygments_lexer": "ipython3",
   "version": "3.6.8"
  }
 },
 "nbformat": 4,
 "nbformat_minor": 2
}
